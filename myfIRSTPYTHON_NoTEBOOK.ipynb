{
  "nbformat": 4,
  "nbformat_minor": 0,
  "metadata": {
    "colab": {
      "provenance": [],
      "authorship_tag": "ABX9TyOZAVP8jk0nl73LHEI/YA+3",
      "include_colab_link": true
    },
    "kernelspec": {
      "name": "python3",
      "display_name": "Python 3"
    },
    "language_info": {
      "name": "python"
    }
  },
  "cells": [
    {
      "cell_type": "markdown",
      "metadata": {
        "id": "view-in-github",
        "colab_type": "text"
      },
      "source": [
        "<a href=\"https://colab.research.google.com/github/U716/ApesNftProject/blob/master/myfIRSTPYTHON_NoTEBOOK.ipynb\" target=\"_parent\"><img src=\"https://colab.research.google.com/assets/colab-badge.svg\" alt=\"Open In Colab\"/></a>"
      ]
    },
    {
      "cell_type": "code",
      "execution_count": 1,
      "metadata": {
        "colab": {
          "base_uri": "https://localhost:8080/",
          "height": 0
        },
        "id": "lqx6HqAqnNQi",
        "outputId": "9a180ab9-841c-441d-e1a3-021653b58c36"
      },
      "outputs": [
        {
          "output_type": "stream",
          "name": "stdout",
          "text": [
            "Hello Sue\n"
          ]
        }
      ],
      "source": [
        "print('Hello Sue')"
      ]
    },
    {
      "cell_type": "code",
      "source": [
        "input ('please Type yourt name:')\n"
      ],
      "metadata": {
        "colab": {
          "base_uri": "https://localhost:8080/",
          "height": 53
        },
        "id": "7QDJAyoXngj8",
        "outputId": "359c5818-6cbc-4b2a-dddf-970e8fc4d73c"
      },
      "execution_count": 2,
      "outputs": [
        {
          "name": "stdout",
          "output_type": "stream",
          "text": [
            "please Type yourt name:Sue\n"
          ]
        },
        {
          "output_type": "execute_result",
          "data": {
            "text/plain": [
              "'Sue'"
            ],
            "application/vnd.google.colaboratory.intrinsic+json": {
              "type": "string"
            }
          },
          "metadata": {},
          "execution_count": 2
        }
      ]
    },
    {
      "cell_type": "code",
      "source": [
        "print('hello', input ('please Type yourt name:'))"
      ],
      "metadata": {
        "colab": {
          "base_uri": "https://localhost:8080/",
          "height": 0
        },
        "id": "QWRCBAPPnoh1",
        "outputId": "7357634a-db2a-492e-80e1-cccabab4813b"
      },
      "execution_count": 3,
      "outputs": [
        {
          "output_type": "stream",
          "name": "stdout",
          "text": [
            "please Type yourt name:Sue\n",
            "hello Sue\n"
          ]
        }
      ]
    },
    {
      "cell_type": "code",
      "source": [
        "name = input(\"please Type yourt name:\")\n",
        "print (\"hello\", name + \"Welcome to python programming\")"
      ],
      "metadata": {
        "colab": {
          "base_uri": "https://localhost:8080/",
          "height": 0
        },
        "id": "T5WuZ8CTnyrl",
        "outputId": "2a14e695-11c6-40a3-f262-80dcc2cb1b3e"
      },
      "execution_count": 8,
      "outputs": [
        {
          "output_type": "stream",
          "name": "stdout",
          "text": [
            "please Type yourt name:sUE\n",
            "hello sUEWelcome to python programming\n"
          ]
        }
      ]
    }
  ]
}