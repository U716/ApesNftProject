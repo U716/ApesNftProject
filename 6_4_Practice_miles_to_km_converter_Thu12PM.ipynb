{
  "nbformat": 4,
  "nbformat_minor": 0,
  "metadata": {
    "colab": {
      "provenance": [],
      "include_colab_link": true
    },
    "kernelspec": {
      "name": "python3",
      "display_name": "Python 3"
    },
    "language_info": {
      "name": "python"
    }
  },
  "cells": [
    {
      "cell_type": "markdown",
      "metadata": {
        "id": "view-in-github",
        "colab_type": "text"
      },
      "source": [
        "<a href=\"https://colab.research.google.com/github/U716/ApesNftProject/blob/master/6_4_Practice_miles_to_km_converter_Thu12PM.ipynb\" target=\"_parent\"><img src=\"https://colab.research.google.com/assets/colab-badge.svg\" alt=\"Open In Colab\"/></a>"
      ]
    },
    {
      "cell_type": "markdown",
      "source": [
        "## Problem Statement:\n",
        "\n",
        "### Simple version\n",
        "The run tracker program is designed to help users keep track of their runs. Users can enter the date, distance in miles, and time in minutes for each run they complete. The program then automatically converts the distance in miles to kilometers and calculates the speed in kilometers per hour using the conversion formula 1 mile = 1.60934 kilometers and speed calcluation formula speed = distance / time.The program should then display the result.\n",
        "\n",
        "### Extended version:\n",
        "The run tracker program is designed to help users keep track of their runs. Users can enter the date, distance in miles, and time in minutes for each run they complete. The program then automatically converts the distance in miles to kilometers and calculates the speed in kilometers per hour using the conversion formula 1 mile = 1.60934 kilometers. The information, including all input values and the calculated speed, is then saved to a CSV file named 'run.csv' for later analysis or tracking.\n",
        "\n",
        "The program is user-friendly and interactive. It prompts the user to enter the required information and provides clear feedback, including a confirmation message with the values entered by the user and the calculated speed. The program also allows the user to decide whether to continue entering more runs or terminate the program.\n",
        "\n",
        "Overall, the run tracker program is a useful tool for individuals who want to monitor their running progress over time and make data-driven decisions about their training."
      ],
      "metadata": {
        "id": "x9jojthsPxBn"
      }
    },
    {
      "cell_type": "markdown",
      "source": [
        "Following the **six-steps problem solving methodology**,<br>\n",
        "**Design and implement** the solution following good programming practices, such as modularising code, validating inputs, handling errors properly, and adhering to the PEP8 style guide.\n",
        "\n",
        "Adhering to PEP8 standards including:\n",
        "* the programming style naming conventions used in the PEP8, which include:\n",
        "* Meaningful names for project, variable, methods, and controls.\n",
        "* Correct capatlisation of variables and methods\n",
        "* Appropriate use of comments\n",
        "* Reference any relevant forums, websites, videos that you used.\n",
        "* Use of space and indentation to program is easy to read."
      ],
      "metadata": {
        "id": "NMyr0sRXzj4D"
      }
    },
    {
      "cell_type": "markdown",
      "source": [
        "Sample input/output:\n",
        "\n",
        "```\n",
        "Enter distance in miles: 10.5\n",
        "10.5 miles is equal to 16.898104 kilometers.\n",
        "\n",
        "Enter distance in miles: 0\n",
        "0.0 miles is equal to 0.0 kilometers.\n",
        "\n",
        "Enter distance in miles: -5\n",
        "Error: Distance cannot be negative.\n",
        "\n",
        "Enter distance in miles: abc\n",
        "Error: Invalid input. Distance must be a number.\n",
        "```\n",
        "\n"
      ],
      "metadata": {
        "id": "81iAFJucQEvQ"
      }
    },
    {
      "cell_type": "markdown",
      "source": [
        "**Design**\n",
        "1. Step 1: identify the srequirements\n",
        "2. Step 2: Inputs and Outputs\n",
        "3. Step 3: work an example of the problem\n",
        "4. Step 4: algo/pseudocode\n"
      ],
      "metadata": {
        "id": "BjtAb2Xr8xDg"
      }
    },
    {
      "cell_type": "markdown",
      "source": [
        "Step 1: "
      ],
      "metadata": {
        "id": "b1T3WxwF9M1q"
      }
    },
    {
      "cell_type": "markdown",
      "source": [
        "The requirements for the run tracker program are as follows:\n",
        "\n",
        "The program should allow the user to enter the date, distance in miles, and time in minutes for each run they complete.\n",
        "The program should convert the distance in miles to kilometers using the conversion factor 1 mile = 1.60934 kilometers.\n",
        "The program should calculate the speed in kilometers per hour using the formula speed = distance / time.\n",
        "The program should display the date, distance in miles, and calculated speed in kilometers per hour for each run.\n",
        "The program should allow the user to save the information to a CSV file for later analysis.\n",
        "The program should allow the user to exit the program at any time."
      ],
      "metadata": {
        "id": "yT2jg71-2SIS"
      }
    },
    {
      "cell_type": "markdown",
      "source": [
        "Step 2: "
      ],
      "metadata": {
        "id": "X32eOPsj9O1Z"
      }
    },
    {
      "cell_type": "markdown",
      "source": [
        "Date (in the format YYYY-MM-DD)\n",
        "Distance (in miles)\n",
        "Time (in minutes)\n",
        "Outputs:\n",
        "\n",
        "Date (in the same format as input)\n",
        "Distance (in miles)\n",
        "Speed (in kilometers per hour)"
      ],
      "metadata": {
        "id": "AtP_kSVC2VRs"
      }
    },
    {
      "cell_type": "markdown",
      "source": [
        "Step 3: "
      ],
      "metadata": {
        "id": "_dE2ckGX9RTR"
      }
    },
    {
      "cell_type": "markdown",
      "source": [
        "Let's say that the user enters the following information:\n",
        "\n",
        "Date: 2023-04-11\n",
        "Distance: 3.5 miles\n",
        "Time: 30 minutes\n",
        "The program should convert the distance to kilometers:\n",
        "\n",
        "Distance in kilometers = 3.5 * 1.60934 = 5.63269 kilometers\n",
        "The program should calculate the speed:\n",
        "\n",
        "Speed = 5.63269 kilometers / (30 minutes / 60) = 11.26538 kilometers per hour\n",
        "The program should display the following output:\n",
        "\n",
        "Date: 2023-04-11\n",
        "Distance: 3.5 miles\n",
        "Speed: 11.27 kilometers per hour"
      ],
      "metadata": {
        "id": "yT2CsOJ52aIq"
      }
    },
    {
      "cell_type": "markdown",
      "source": [
        "Step 4: \n",
        "1. Start the program\n",
        "2. Create an empty list to store the run information\n",
        "3. Display a welcome message to the user\n",
        "4. While True:\n",
        "    5. Prompt the user to enter the date of the run (YYYY-MM-DD)\n",
        "    6. Validate the date input\n",
        "    7. Prompt the user to enter the distance of the run in miles\n",
        "    8. Validate the distance input\n",
        "    9. Prompt the user to enter the time of the run in minutes\n",
        "    10. Validate the time input\n",
        "    11. Convert the distance from miles to kilometers\n",
        "    12. Calculate the speed in kilometers per hour\n",
        "    13. Display the date, distance, and speed to the user\n",
        "    14. Save the run information to a list\n",
        "    15. Prompt the user to enter another run or exit the program\n",
        "16. If the user wants to exit the program:\n",
        "    17. Save the run information to a CSV file\n",
        "    18. Display a goodbye message to the user\n",
        "    19. End the program"
      ],
      "metadata": {
        "id": "YmpIGAu89SrJ"
      }
    },
    {
      "cell_type": "code",
      "source": [],
      "metadata": {
        "id": "SikFWznPRJuF"
      },
      "execution_count": null,
      "outputs": []
    },
    {
      "cell_type": "markdown",
      "source": [
        "### Test your program with some valid and invalid cases"
      ],
      "metadata": {
        "id": "Sdy8NRHrWJ0u"
      }
    },
    {
      "cell_type": "code",
      "source": [
        "# Function to convert miles to kilometers\n",
        "def convert_miles_to_km(miles):\n",
        "    km = miles * 1.60934\n",
        "    return km\n",
        "\n",
        "# Function to calculate speed in km/h\n",
        "def calculate_speed(distance_km, time_min):\n",
        "    speed = distance_km / (time_min / 60)\n",
        "    return speed\n",
        "\n",
        "# Prompt user for input\n",
        "date = input(\"Enter the date of your run (MM/DD/YYYY): \")\n",
        "distance_miles = float(input(\"Enter the distance of your run in miles: \"))\n",
        "time_min = float(input(\"Enter the time of your run in minutes: \"))\n",
        "\n",
        "# Convert miles to kilometers\n",
        "distance_km = convert_miles_to_km(distance_miles)\n",
        "\n",
        "# Calculate speed in km/h\n",
        "speed_kmph = calculate_speed(distance_km, time_min)\n",
        "\n",
        "# Display the result\n",
        "print(\"On\", date, \"you ran\", distance_miles, \"miles in\", time_min, \"minutes.\")\n",
        "print(\"Your speed was\", round(speed_kmph, 2), \"km/h.\")"
      ],
      "metadata": {
        "id": "ekCKmlCzWdaj",
        "outputId": "56c1b8ac-bc67-4f4b-dffb-eef59cb9c760",
        "colab": {
          "base_uri": "https://localhost:8080/"
        }
      },
      "execution_count": 1,
      "outputs": [
        {
          "output_type": "stream",
          "name": "stdout",
          "text": [
            "Enter the date of your run (MM/DD/YYYY): 18/01/199\n",
            "Enter the distance of your run in miles: 10\n",
            "Enter the time of your run in minutes: 9\n",
            "On 18/01/199 you ran 10.0 miles in 9.0 minutes.\n",
            "Your speed was 107.29 km/h.\n"
          ]
        }
      ]
    },
    {
      "cell_type": "markdown",
      "source": [
        "### Optional: Modify the program so it print results and write results to a file."
      ],
      "metadata": {
        "id": "vw_BIIeeNsCl"
      }
    },
    {
      "cell_type": "code",
      "source": [
        "def validate_date(date_string):\n",
        "    \"\"\"Validate date input\"\"\"\n",
        "    try:\n",
        "        datetime.datetime.strptime(date_string, '%Y-%m-%d')\n",
        "        return True\n",
        "    except ValueError:\n",
        "        return False\n",
        "\n",
        "\n",
        "def validate_distance(distance_string):\n",
        "    \"\"\"Validate distance input\"\"\"\n",
        "    try:\n",
        "        distance = float(distance_string)\n",
        "        if distance >= 0:\n",
        "            return True\n",
        "        else:\n",
        "            return False\n",
        "    except ValueError:\n",
        "        return False\n",
        "\n",
        "\n",
        "def validate_time(time_string):\n",
        "    \"\"\"Validate time input\"\"\"\n",
        "    try:\n",
        "        time = float(time_string)\n",
        "        if time >= 0:\n",
        "            return True\n",
        "        else:\n",
        "            return False\n",
        "    except ValueError:\n",
        "        return"
      ],
      "metadata": {
        "id": "-mBD-_ApTLSD"
      },
      "execution_count": 2,
      "outputs": []
    },
    {
      "cell_type": "markdown",
      "source": [
        "### Optional: Plot a graph to visualise the result\n",
        "\n",
        "\n"
      ],
      "metadata": {
        "id": "NmDIwHQ3T_bU"
      }
    }
  ]
}