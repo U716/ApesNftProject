{
  "nbformat": 4,
  "nbformat_minor": 0,
  "metadata": {
    "colab": {
      "provenance": [],
      "authorship_tag": "ABX9TyOFkTvIOqyXiZVQV+U1rAyn",
      "include_colab_link": true
    },
    "kernelspec": {
      "name": "python3",
      "display_name": "Python 3"
    },
    "language_info": {
      "name": "python"
    }
  },
  "cells": [
    {
      "cell_type": "markdown",
      "metadata": {
        "id": "view-in-github",
        "colab_type": "text"
      },
      "source": [
        "<a href=\"https://colab.research.google.com/github/U716/ApesNftProject/blob/master/05.1_using_myMath.ipynb\" target=\"_parent\"><img src=\"https://colab.research.google.com/assets/colab-badge.svg\" alt=\"Open In Colab\"/></a>"
      ]
    },
    {
      "cell_type": "markdown",
      "source": [
        "Test Module: my_math.ipynb\n",
        "In this notebook, write some code to test the functions in my_math.ipynb by importing the file as python module. my_math.ipynb has some basic arithmetic functions in it.\n",
        "\n",
        "We will try importing as a python script and as a notebook.\n",
        "\n",
        "Task 0 - Import this notebook to GitHub\n",
        "Save the notebook to your local GitHub repository.\n",
        "\n",
        "Task 1 - Import as a Python script\n",
        "To do this you will need to:\n",
        "\n",
        "open my_math.ipynb from the Worksheets repository\n",
        "\n",
        "download/save as my_math.py\n",
        "\n",
        "from this notebook upload my_math.py. This will put it in the same folder as this notebook.\n",
        "\n",
        "Import the my_math module\n",
        "\n",
        "import my_math\n",
        "\n",
        "write some code to test the functions in my_math module"
      ],
      "metadata": {
        "id": "wXycm9fuwt4W"
      }
    },
    {
      "cell_type": "code",
      "source": [
        "import myMath\n",
        "\n",
        "help(myMath)"
      ],
      "metadata": {
        "id": "dwX58dYFwxgd"
      },
      "execution_count": null,
      "outputs": []
    },
    {
      "cell_type": "code",
      "source": [
        "myMath.add(2,3)"
      ],
      "metadata": {
        "id": "29TxWmAnwzg1"
      },
      "execution_count": null,
      "outputs": []
    },
    {
      "cell_type": "code",
      "source": [
        "myMath.divide(4, 2) "
      ],
      "metadata": {
        "id": "T0pPhY8Bw03c"
      },
      "execution_count": null,
      "outputs": []
    },
    {
      "cell_type": "code",
      "source": [
        "'''\n",
        "Errors should captured/handled by developer.\n",
        "Developer should implement mechanism to capture all possible errors\n",
        "'''\n",
        "myMath.divide(2,0)"
      ],
      "metadata": {
        "id": "L635Ab22w2mG"
      },
      "execution_count": null,
      "outputs": []
    }
  ]
}