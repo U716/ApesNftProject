{
  "cells": [
    {
      "cell_type": "markdown",
      "metadata": {
        "id": "view-in-github",
        "colab_type": "text"
      },
      "source": [
        "<a href=\"https://colab.research.google.com/github/U716/ApesNftProject/blob/master/03_1_payslip_2.ipynb\" target=\"_parent\"><img src=\"https://colab.research.google.com/assets/colab-badge.svg\" alt=\"Open In Colab\"/></a>"
      ]
    },
    {
      "cell_type": "markdown",
      "metadata": {
        "id": "kF8ldRydTDPx"
      },
      "source": [
        "# Payslip\n",
        "\n",
        "A payslip is a document that shows their total wages earned for a set period. \n",
        "This might be from a salary, hourly wages or commission. Payslips are also know as ‘pay advice’.  Traditionally the payslip was a paper document attached. Today\n",
        "most organisations provide them electronically.\n",
        "\n",
        "## Task 0 - Import into GitHub\n",
        "First, import the notebook into Colab and save an initial copy to GitHub.\n",
        "\n",
        "## Task 1 - Start Simple\n",
        "\n",
        "Writing complete robust programs can take time.  Often the more we understand a problem the easier it is to implement the solution.   One approach is to implement the simplest version of a program and then slowly add functionality.\n",
        "\n",
        "This notebook aims to start simple and slowly build up the program.\n",
        "The approach we take below is one way to understand a problem, step 1 of our development process. Complex projects, often follow a similar idea\n",
        "where they implement a minimal program, and each week or month has intense periods where the team adds functionality.  These advanced methodologies are beyond the scope of an introductory programming course but by starting small and slowly adding functionality we do capture the essence of the process.\n",
        "\n",
        "\n",
        "### The Initial (minimal) Program\n",
        "\n",
        "Consider 'Ram' who has a salary of \\$25,000.  They have sold goods worth $20,000 and earn a 2% commission on the sales. They fall into the 10% tax bracket. We will talk about tax brackets in another notebook. Before making payments the organisation needs to deduct 10% tax.\n",
        "\n",
        "We need to program to print out a payslip for salespeople. Our payslip\n",
        "is very simple, we need a title, the amount of salary, the amount of commission, the amount of tax, and the total pay.\n",
        "\n",
        "Run the following program for one person."
      ]
    },
    {
      "cell_type": "code",
      "execution_count": null,
      "metadata": {
        "id": "2UenEHfcTuLz",
        "colab": {
          "base_uri": "https://localhost:8080/"
        },
        "outputId": "baf59a33-a475-4523-a5f6-a88f77af8f14"
      },
      "outputs": [
        {
          "output_type": "stream",
          "name": "stdout",
          "text": [
            "=== Payslip of Ram ===\n",
            "Salary:     25000 \n",
            "Commission: 400.0 \n",
            "Tax:       2540.0\n",
            "Total pay:  22860.0\n"
          ]
        }
      ],
      "source": [
        "# assign values for salary and sales\n",
        "salary = 25000\n",
        "sales = 20000\n",
        "\n",
        "# calculate the commision\n",
        "commission = (2/100) * sales\n",
        "\n",
        "# calculate the tax\n",
        "tax = (salary + commission) * 0.10\n",
        "\n",
        "# calculate the pay\n",
        "pay = salary + commission - tax\n",
        "\n",
        "# print the payslip\n",
        "print('=== Payslip of Ram ===')\n",
        "\n",
        "#print(\"Salary: \", salary, \"\\nCommission: \", commission, \"\\nTax:\", tax)\n",
        "\n",
        "print(f\"Salary: {salary:9} \\nCommission: {commission:2} \\nTax: {tax:12}\")\n",
        "print(f\"Total pay: {pay:8}\")\n"
      ]
    },
    {
      "cell_type": "markdown",
      "metadata": {
        "id": "QzcJGzRBUDz2"
      },
      "source": [
        "Now, consider 'Radha' who has a salary of \\$30,000.  They have sold goods worth $40,000 and earns 2.5% commision on the sales. They fall into the 10% tax bracket and so before making payments we need to deduct 10% form their total payout."
      ]
    },
    {
      "cell_type": "code",
      "execution_count": null,
      "metadata": {
        "id": "wFmuD9ujUgDW",
        "colab": {
          "base_uri": "https://localhost:8080/"
        },
        "outputId": "a83bcb04-91c3-4a1d-db81-6d8fd6f7c616"
      },
      "outputs": [
        {
          "output_type": "stream",
          "name": "stdout",
          "text": [
            "=== Payslip of Radha ===\n",
            "Salary:     30000 \n",
            "Commission: 1000.0 \n",
            "Tax:       3100.0\n",
            "Total pay:  27900.0\n"
          ]
        }
      ],
      "source": [
        "# assign values for salary and sales\n",
        "salary = 30000\n",
        "sales = 40000\n",
        "\n",
        "# calculate the commision\n",
        "commission = (2.5/100) * sales\n",
        "\n",
        "# calculate the tax\n",
        "tax = (salary + commission) * 0.10\n",
        "\n",
        "# calculate the pay\n",
        "pay = salary + commission - tax\n",
        "\n",
        "# print the payslip\n",
        "print('=== Payslip of Radha ===')\n",
        "\n",
        "#print(\"Salary: \", salary, \"\\nCommission: \", commission, \"\\nTax:\", tax)\n",
        "\n",
        "print(f\"Salary: {salary:9} \\nCommission: {commission:2} \\nTax: {tax:12}\")\n",
        "print(f\"Total pay: {pay:8}\")"
      ]
    },
    {
      "cell_type": "markdown",
      "metadata": {
        "id": "UFGObxq7UlvE"
      },
      "source": [
        "## Task 2 - Generalise\n",
        "\n",
        "What details did we change from Ram to Radha?"
      ]
    },
    {
      "cell_type": "code",
      "execution_count": null,
      "metadata": {
        "id": "zMEi9q1dUr36"
      },
      "outputs": [],
      "source": [
        "# salary \n",
        "# sales\n",
        "# commission\n",
        "\n",
        "#fix the tax as 10%"
      ]
    },
    {
      "cell_type": "markdown",
      "metadata": {
        "id": "7PrlmDmYV6iX"
      },
      "source": [
        "Make what we changed as inputs (parameters) to a function"
      ]
    },
    {
      "cell_type": "code",
      "execution_count": null,
      "metadata": {
        "id": "cJwgf8nZWDF6"
      },
      "outputs": [],
      "source": [
        "# create function to calculate pay\n",
        "\n",
        "def calculate_pay(salary, sales, comm):\n",
        "  # calculate the commision\n",
        "  commission = (comm/100) * sales\n",
        "\n",
        "  # calculate the tax\n",
        "  tax = (salary + commission) * 0.10\n",
        "\n",
        "  # calculate the pay\n",
        "  pay = salary + commission - tax\n",
        "\n",
        "  #print(commission, tax, pay)\n",
        "  return commission, tax, pay\n",
        " \n"
      ]
    },
    {
      "cell_type": "code",
      "source": [
        "comm_result, tax_result, pay_result = calculate_pay(30000, 40000, 2.5)\n",
        "\n",
        "# print the payslip\n",
        "print('=== Payslip ===')\n",
        "print(f\"Commission: {comm_result:2} \\nTax: {tax_result:12}\")\n",
        "print(f\"Total pay: {pay_result:8}\")"
      ],
      "metadata": {
        "colab": {
          "base_uri": "https://localhost:8080/"
        },
        "id": "yK-LXFzE8ycU",
        "outputId": "c13a4b19-1ca9-4c4e-dcde-d194acfa865b"
      },
      "execution_count": null,
      "outputs": [
        {
          "output_type": "stream",
          "name": "stdout",
          "text": [
            "=== Payslip ===\n",
            "Commission: 1000.0 \n",
            "Tax:       3100.0\n",
            "Total pay:  27900.0\n"
          ]
        }
      ]
    },
    {
      "cell_type": "code",
      "source": [
        "# get user input - name\n",
        "\n",
        "# get user input for salary\n",
        "\n",
        "# get user input for sales\n",
        "\n",
        "# get user input for commission\n",
        "\n",
        "# pass the salary, sales & commission values to function calculate_pay\n",
        "\n",
        "# receive/capture the return values from the function\n",
        "\n",
        "# print out the payslip nicely formatted"
      ],
      "metadata": {
        "id": "uqjNAtdf8zM-"
      },
      "execution_count": null,
      "outputs": []
    },
    {
      "cell_type": "code",
      "source": [
        "# if you want to be adventurous then\n",
        "\n",
        "# create a fucntion just to do the printing\n",
        "# def payslip(name, salary, comm_calcualted, tax-calcualted, net_pay)"
      ],
      "metadata": {
        "id": "5pBmENsV8zH8"
      },
      "execution_count": null,
      "outputs": []
    },
    {
      "cell_type": "code",
      "source": [],
      "metadata": {
        "id": "6s5Tr60h8zEk"
      },
      "execution_count": null,
      "outputs": []
    },
    {
      "cell_type": "code",
      "source": [
        "calculate_pay(25000, 20000, 2.0) #for Ram\n",
        "calculate_pay(30000, 40000, 2.5) #for Radha\n",
        "\n",
        "pay = calculate_pay(30000, 40000, 2.5)\n",
        "print('pay is ', pay)"
      ],
      "metadata": {
        "colab": {
          "base_uri": "https://localhost:8080/"
        },
        "id": "6QRT1l_j5dxI",
        "outputId": "886dca9e-c4fa-45eb-f3e4-42c2ffc8a163"
      },
      "execution_count": null,
      "outputs": [
        {
          "output_type": "stream",
          "name": "stdout",
          "text": [
            "pay is  27900.0\n"
          ]
        }
      ]
    }
  ],
  "metadata": {
    "colab": {
      "provenance": [],
      "include_colab_link": true
    },
    "kernelspec": {
      "display_name": "Python 3",
      "language": "python",
      "name": "python3"
    },
    "language_info": {
      "codemirror_mode": {
        "name": "ipython",
        "version": 3
      },
      "file_extension": ".py",
      "mimetype": "text/x-python",
      "name": "python",
      "nbconvert_exporter": "python",
      "pygments_lexer": "ipython3",
      "version": "3.8.8"
    }
  },
  "nbformat": 4,
  "nbformat_minor": 0
}